{
 "cells": [
  {
   "cell_type": "code",
   "execution_count": 3,
   "metadata": {},
   "outputs": [
    {
     "name": "stdout",
     "output_type": "stream",
     "text": [
      "Populating the interactive namespace from numpy and matplotlib\n"
     ]
    }
   ],
   "source": [
    "# Import Libraries\n",
    "import pandas as pd\n",
    "import matplotlib.pyplot as plt\n",
    "import numpy as np\n",
    "import scipy.stats as stats\n",
    "import seaborn as sns\n",
    "from matplotlib import rcParams\n",
    "\n",
    "%matplotlib inline \n",
    "%pylab inline "
   ]
  },
  {
   "cell_type": "code",
   "execution_count": 5,
   "metadata": {},
   "outputs": [
    {
     "data": {
      "text/html": [
       "<div>\n",
       "<style>\n",
       "    .dataframe thead tr:only-child th {\n",
       "        text-align: right;\n",
       "    }\n",
       "\n",
       "    .dataframe thead th {\n",
       "        text-align: left;\n",
       "    }\n",
       "\n",
       "    .dataframe tbody tr th {\n",
       "        vertical-align: top;\n",
       "    }\n",
       "</style>\n",
       "<table border=\"1\" class=\"dataframe\">\n",
       "  <thead>\n",
       "    <tr style=\"text-align: right;\">\n",
       "      <th></th>\n",
       "      <th>&lt;TICKER&gt;</th>\n",
       "      <th>&lt;DTYYYYMMDD&gt;</th>\n",
       "      <th>&lt;TIME&gt;</th>\n",
       "      <th>&lt;OPEN&gt;</th>\n",
       "      <th>&lt;HIGH&gt;</th>\n",
       "      <th>&lt;LOW&gt;</th>\n",
       "      <th>&lt;CLOSE&gt;</th>\n",
       "      <th>&lt;VOL&gt;</th>\n",
       "    </tr>\n",
       "  </thead>\n",
       "  <tbody>\n",
       "    <tr>\n",
       "      <th>0</th>\n",
       "      <td>EURUSD</td>\n",
       "      <td>20010102</td>\n",
       "      <td>230100</td>\n",
       "      <td>0.9507</td>\n",
       "      <td>0.9507</td>\n",
       "      <td>0.9507</td>\n",
       "      <td>0.9507</td>\n",
       "      <td>4</td>\n",
       "    </tr>\n",
       "    <tr>\n",
       "      <th>1</th>\n",
       "      <td>EURUSD</td>\n",
       "      <td>20010102</td>\n",
       "      <td>230200</td>\n",
       "      <td>0.9506</td>\n",
       "      <td>0.9506</td>\n",
       "      <td>0.9505</td>\n",
       "      <td>0.9505</td>\n",
       "      <td>4</td>\n",
       "    </tr>\n",
       "    <tr>\n",
       "      <th>2</th>\n",
       "      <td>EURUSD</td>\n",
       "      <td>20010102</td>\n",
       "      <td>230300</td>\n",
       "      <td>0.9505</td>\n",
       "      <td>0.9507</td>\n",
       "      <td>0.9505</td>\n",
       "      <td>0.9506</td>\n",
       "      <td>4</td>\n",
       "    </tr>\n",
       "    <tr>\n",
       "      <th>3</th>\n",
       "      <td>EURUSD</td>\n",
       "      <td>20010102</td>\n",
       "      <td>230400</td>\n",
       "      <td>0.9506</td>\n",
       "      <td>0.9506</td>\n",
       "      <td>0.9506</td>\n",
       "      <td>0.9506</td>\n",
       "      <td>4</td>\n",
       "    </tr>\n",
       "    <tr>\n",
       "      <th>4</th>\n",
       "      <td>EURUSD</td>\n",
       "      <td>20010102</td>\n",
       "      <td>230500</td>\n",
       "      <td>0.9506</td>\n",
       "      <td>0.9506</td>\n",
       "      <td>0.9506</td>\n",
       "      <td>0.9506</td>\n",
       "      <td>4</td>\n",
       "    </tr>\n",
       "  </tbody>\n",
       "</table>\n",
       "</div>"
      ],
      "text/plain": [
       "  <TICKER>  <DTYYYYMMDD>  <TIME>  <OPEN>  <HIGH>   <LOW>  <CLOSE>  <VOL>\n",
       "0   EURUSD      20010102  230100  0.9507  0.9507  0.9507   0.9507      4\n",
       "1   EURUSD      20010102  230200  0.9506  0.9506  0.9505   0.9505      4\n",
       "2   EURUSD      20010102  230300  0.9505  0.9507  0.9505   0.9506      4\n",
       "3   EURUSD      20010102  230400  0.9506  0.9506  0.9506   0.9506      4\n",
       "4   EURUSD      20010102  230500  0.9506  0.9506  0.9506   0.9506      4"
      ]
     },
     "execution_count": 5,
     "metadata": {},
     "output_type": "execute_result"
    }
   ],
   "source": [
    "# Import 1M EURUSD 2001 - 2017\n",
    "\n",
    "df = pd.read_csv('/Users/alvinchung/Dropbox/University/Personal/Jupter_notebook/DataSets/Currency/EURUSD.txt')\n",
    "df.head()"
   ]
  },
  {
   "cell_type": "code",
   "execution_count": 6,
   "metadata": {},
   "outputs": [
    {
     "data": {
      "text/html": [
       "<div>\n",
       "<style>\n",
       "    .dataframe thead tr:only-child th {\n",
       "        text-align: right;\n",
       "    }\n",
       "\n",
       "    .dataframe thead th {\n",
       "        text-align: left;\n",
       "    }\n",
       "\n",
       "    .dataframe tbody tr th {\n",
       "        vertical-align: top;\n",
       "    }\n",
       "</style>\n",
       "<table border=\"1\" class=\"dataframe\">\n",
       "  <thead>\n",
       "    <tr style=\"text-align: right;\">\n",
       "      <th></th>\n",
       "      <th>&lt;TICKER&gt;</th>\n",
       "      <th>&lt;DTYYYYMMDD&gt;</th>\n",
       "      <th>&lt;TIME&gt;</th>\n",
       "      <th>&lt;OPEN&gt;</th>\n",
       "      <th>&lt;HIGH&gt;</th>\n",
       "      <th>&lt;LOW&gt;</th>\n",
       "      <th>&lt;CLOSE&gt;</th>\n",
       "      <th>&lt;VOL&gt;</th>\n",
       "    </tr>\n",
       "  </thead>\n",
       "  <tbody>\n",
       "    <tr>\n",
       "      <th>0</th>\n",
       "      <td>USDCHF</td>\n",
       "      <td>20010102</td>\n",
       "      <td>230100</td>\n",
       "      <td>1.5989</td>\n",
       "      <td>1.5990</td>\n",
       "      <td>1.5988</td>\n",
       "      <td>1.5988</td>\n",
       "      <td>4</td>\n",
       "    </tr>\n",
       "    <tr>\n",
       "      <th>1</th>\n",
       "      <td>USDCHF</td>\n",
       "      <td>20010102</td>\n",
       "      <td>230200</td>\n",
       "      <td>1.5988</td>\n",
       "      <td>1.5988</td>\n",
       "      <td>1.5988</td>\n",
       "      <td>1.5988</td>\n",
       "      <td>4</td>\n",
       "    </tr>\n",
       "    <tr>\n",
       "      <th>2</th>\n",
       "      <td>USDCHF</td>\n",
       "      <td>20010102</td>\n",
       "      <td>230300</td>\n",
       "      <td>1.5990</td>\n",
       "      <td>1.5991</td>\n",
       "      <td>1.5990</td>\n",
       "      <td>1.5991</td>\n",
       "      <td>4</td>\n",
       "    </tr>\n",
       "    <tr>\n",
       "      <th>3</th>\n",
       "      <td>USDCHF</td>\n",
       "      <td>20010102</td>\n",
       "      <td>230400</td>\n",
       "      <td>1.5991</td>\n",
       "      <td>1.5991</td>\n",
       "      <td>1.5991</td>\n",
       "      <td>1.5991</td>\n",
       "      <td>4</td>\n",
       "    </tr>\n",
       "    <tr>\n",
       "      <th>4</th>\n",
       "      <td>USDCHF</td>\n",
       "      <td>20010102</td>\n",
       "      <td>230500</td>\n",
       "      <td>1.5991</td>\n",
       "      <td>1.5991</td>\n",
       "      <td>1.5990</td>\n",
       "      <td>1.5990</td>\n",
       "      <td>4</td>\n",
       "    </tr>\n",
       "  </tbody>\n",
       "</table>\n",
       "</div>"
      ],
      "text/plain": [
       "  <TICKER>  <DTYYYYMMDD>  <TIME>  <OPEN>  <HIGH>   <LOW>  <CLOSE>  <VOL>\n",
       "0   USDCHF      20010102  230100  1.5989  1.5990  1.5988   1.5988      4\n",
       "1   USDCHF      20010102  230200  1.5988  1.5988  1.5988   1.5988      4\n",
       "2   USDCHF      20010102  230300  1.5990  1.5991  1.5990   1.5991      4\n",
       "3   USDCHF      20010102  230400  1.5991  1.5991  1.5991   1.5991      4\n",
       "4   USDCHF      20010102  230500  1.5991  1.5991  1.5990   1.5990      4"
      ]
     },
     "execution_count": 6,
     "metadata": {},
     "output_type": "execute_result"
    }
   ],
   "source": [
    "# Import 1M USDCHF 2001 - 2017\n",
    "df1 = pd.read_csv('/Users/alvinchung/Dropbox/University/Personal/Jupter_notebook/DataSets/Currency/USDCHF.txt')\n",
    "df1.head()"
   ]
  },
  {
   "cell_type": "code",
   "execution_count": 7,
   "metadata": {},
   "outputs": [
    {
     "name": "stdout",
     "output_type": "stream",
     "text": [
      "<TICKER>        False\n",
      "<DTYYYYMMDD>    False\n",
      "<TIME>          False\n",
      "<OPEN>          False\n",
      "<HIGH>          False\n",
      "<LOW>           False\n",
      "<CLOSE>         False\n",
      "<VOL>           False\n",
      "dtype: bool\n",
      "<TICKER>        False\n",
      "<DTYYYYMMDD>    False\n",
      "<TIME>          False\n",
      "<OPEN>          False\n",
      "<HIGH>          False\n",
      "<LOW>           False\n",
      "<CLOSE>         False\n",
      "<VOL>           False\n",
      "dtype: bool\n"
     ]
    }
   ],
   "source": [
    "# Check if data contains any null values\n",
    "print(df.isnull().any())\n",
    "print(df1.isnull().any())"
   ]
  },
  {
   "cell_type": "code",
   "execution_count": 8,
   "metadata": {},
   "outputs": [
    {
     "data": {
      "text/html": [
       "<div>\n",
       "<style>\n",
       "    .dataframe thead tr:only-child th {\n",
       "        text-align: right;\n",
       "    }\n",
       "\n",
       "    .dataframe thead th {\n",
       "        text-align: left;\n",
       "    }\n",
       "\n",
       "    .dataframe tbody tr th {\n",
       "        vertical-align: top;\n",
       "    }\n",
       "</style>\n",
       "<table border=\"1\" class=\"dataframe\">\n",
       "  <thead>\n",
       "    <tr style=\"text-align: right;\">\n",
       "      <th></th>\n",
       "      <th>&lt;TICKER&gt;_x</th>\n",
       "      <th>&lt;DTYYYYMMDD&gt;</th>\n",
       "      <th>&lt;TIME&gt;</th>\n",
       "      <th>&lt;OPEN&gt;_x</th>\n",
       "      <th>&lt;HIGH&gt;_x</th>\n",
       "      <th>&lt;LOW&gt;_x</th>\n",
       "      <th>&lt;CLOSE&gt;_x</th>\n",
       "      <th>&lt;VOL&gt;_x</th>\n",
       "      <th>&lt;TICKER&gt;_y</th>\n",
       "      <th>&lt;OPEN&gt;_y</th>\n",
       "      <th>&lt;HIGH&gt;_y</th>\n",
       "      <th>&lt;LOW&gt;_y</th>\n",
       "      <th>&lt;CLOSE&gt;_y</th>\n",
       "      <th>&lt;VOL&gt;_y</th>\n",
       "    </tr>\n",
       "  </thead>\n",
       "  <tbody>\n",
       "    <tr>\n",
       "      <th>0</th>\n",
       "      <td>EURUSD</td>\n",
       "      <td>20010102</td>\n",
       "      <td>230100</td>\n",
       "      <td>0.9507</td>\n",
       "      <td>0.9507</td>\n",
       "      <td>0.9507</td>\n",
       "      <td>0.9507</td>\n",
       "      <td>4</td>\n",
       "      <td>USDCHF</td>\n",
       "      <td>1.5989</td>\n",
       "      <td>1.5990</td>\n",
       "      <td>1.5988</td>\n",
       "      <td>1.5988</td>\n",
       "      <td>4</td>\n",
       "    </tr>\n",
       "    <tr>\n",
       "      <th>1</th>\n",
       "      <td>EURUSD</td>\n",
       "      <td>20010102</td>\n",
       "      <td>230200</td>\n",
       "      <td>0.9506</td>\n",
       "      <td>0.9506</td>\n",
       "      <td>0.9505</td>\n",
       "      <td>0.9505</td>\n",
       "      <td>4</td>\n",
       "      <td>USDCHF</td>\n",
       "      <td>1.5988</td>\n",
       "      <td>1.5988</td>\n",
       "      <td>1.5988</td>\n",
       "      <td>1.5988</td>\n",
       "      <td>4</td>\n",
       "    </tr>\n",
       "    <tr>\n",
       "      <th>2</th>\n",
       "      <td>EURUSD</td>\n",
       "      <td>20010102</td>\n",
       "      <td>230300</td>\n",
       "      <td>0.9505</td>\n",
       "      <td>0.9507</td>\n",
       "      <td>0.9505</td>\n",
       "      <td>0.9506</td>\n",
       "      <td>4</td>\n",
       "      <td>USDCHF</td>\n",
       "      <td>1.5990</td>\n",
       "      <td>1.5991</td>\n",
       "      <td>1.5990</td>\n",
       "      <td>1.5991</td>\n",
       "      <td>4</td>\n",
       "    </tr>\n",
       "    <tr>\n",
       "      <th>3</th>\n",
       "      <td>EURUSD</td>\n",
       "      <td>20010102</td>\n",
       "      <td>230400</td>\n",
       "      <td>0.9506</td>\n",
       "      <td>0.9506</td>\n",
       "      <td>0.9506</td>\n",
       "      <td>0.9506</td>\n",
       "      <td>4</td>\n",
       "      <td>USDCHF</td>\n",
       "      <td>1.5991</td>\n",
       "      <td>1.5991</td>\n",
       "      <td>1.5991</td>\n",
       "      <td>1.5991</td>\n",
       "      <td>4</td>\n",
       "    </tr>\n",
       "    <tr>\n",
       "      <th>4</th>\n",
       "      <td>EURUSD</td>\n",
       "      <td>20010102</td>\n",
       "      <td>230500</td>\n",
       "      <td>0.9506</td>\n",
       "      <td>0.9506</td>\n",
       "      <td>0.9506</td>\n",
       "      <td>0.9506</td>\n",
       "      <td>4</td>\n",
       "      <td>USDCHF</td>\n",
       "      <td>1.5991</td>\n",
       "      <td>1.5991</td>\n",
       "      <td>1.5990</td>\n",
       "      <td>1.5990</td>\n",
       "      <td>4</td>\n",
       "    </tr>\n",
       "  </tbody>\n",
       "</table>\n",
       "</div>"
      ],
      "text/plain": [
       "  <TICKER>_x  <DTYYYYMMDD>  <TIME>  <OPEN>_x  <HIGH>_x  <LOW>_x  <CLOSE>_x  \\\n",
       "0     EURUSD      20010102  230100    0.9507    0.9507   0.9507     0.9507   \n",
       "1     EURUSD      20010102  230200    0.9506    0.9506   0.9505     0.9505   \n",
       "2     EURUSD      20010102  230300    0.9505    0.9507   0.9505     0.9506   \n",
       "3     EURUSD      20010102  230400    0.9506    0.9506   0.9506     0.9506   \n",
       "4     EURUSD      20010102  230500    0.9506    0.9506   0.9506     0.9506   \n",
       "\n",
       "   <VOL>_x <TICKER>_y  <OPEN>_y  <HIGH>_y  <LOW>_y  <CLOSE>_y  <VOL>_y  \n",
       "0        4     USDCHF    1.5989    1.5990   1.5988     1.5988        4  \n",
       "1        4     USDCHF    1.5988    1.5988   1.5988     1.5988        4  \n",
       "2        4     USDCHF    1.5990    1.5991   1.5990     1.5991        4  \n",
       "3        4     USDCHF    1.5991    1.5991   1.5991     1.5991        4  \n",
       "4        4     USDCHF    1.5991    1.5991   1.5990     1.5990        4  "
      ]
     },
     "execution_count": 8,
     "metadata": {},
     "output_type": "execute_result"
    }
   ],
   "source": [
    "# left inner union EURUSD to USDCHF\n",
    "df = pd.merge(df, df1, on= ['<DTYYYYMMDD>','<TIME>'])\n",
    "df.head()"
   ]
  },
  {
   "cell_type": "code",
   "execution_count": 9,
   "metadata": {},
   "outputs": [
    {
     "data": {
      "text/html": [
       "<div>\n",
       "<style>\n",
       "    .dataframe thead tr:only-child th {\n",
       "        text-align: right;\n",
       "    }\n",
       "\n",
       "    .dataframe thead th {\n",
       "        text-align: left;\n",
       "    }\n",
       "\n",
       "    .dataframe tbody tr th {\n",
       "        vertical-align: top;\n",
       "    }\n",
       "</style>\n",
       "<table border=\"1\" class=\"dataframe\">\n",
       "  <thead>\n",
       "    <tr style=\"text-align: right;\">\n",
       "      <th></th>\n",
       "      <th>&lt;DTYYYYMMDD&gt;</th>\n",
       "      <th>&lt;TIME&gt;</th>\n",
       "      <th>&lt;OPEN&gt;_x</th>\n",
       "      <th>&lt;HIGH&gt;_x</th>\n",
       "      <th>&lt;LOW&gt;_x</th>\n",
       "      <th>&lt;CLOSE&gt;_x</th>\n",
       "      <th>&lt;VOL&gt;_x</th>\n",
       "      <th>&lt;OPEN&gt;_y</th>\n",
       "      <th>&lt;HIGH&gt;_y</th>\n",
       "      <th>&lt;LOW&gt;_y</th>\n",
       "      <th>&lt;CLOSE&gt;_y</th>\n",
       "      <th>&lt;VOL&gt;_y</th>\n",
       "    </tr>\n",
       "  </thead>\n",
       "  <tbody>\n",
       "    <tr>\n",
       "      <th>count</th>\n",
       "      <td>5.583225e+06</td>\n",
       "      <td>5.583225e+06</td>\n",
       "      <td>5.583225e+06</td>\n",
       "      <td>5.583225e+06</td>\n",
       "      <td>5.583225e+06</td>\n",
       "      <td>5.583225e+06</td>\n",
       "      <td>5583225.0</td>\n",
       "      <td>5.583225e+06</td>\n",
       "      <td>5.583225e+06</td>\n",
       "      <td>5.583225e+06</td>\n",
       "      <td>5.583225e+06</td>\n",
       "      <td>5583225.0</td>\n",
       "    </tr>\n",
       "    <tr>\n",
       "      <th>mean</th>\n",
       "      <td>2.009006e+07</td>\n",
       "      <td>1.163991e+05</td>\n",
       "      <td>1.250523e+00</td>\n",
       "      <td>1.250602e+00</td>\n",
       "      <td>1.250443e+00</td>\n",
       "      <td>1.250523e+00</td>\n",
       "      <td>4.0</td>\n",
       "      <td>1.126337e+00</td>\n",
       "      <td>1.126412e+00</td>\n",
       "      <td>1.126262e+00</td>\n",
       "      <td>1.126337e+00</td>\n",
       "      <td>4.0</td>\n",
       "    </tr>\n",
       "    <tr>\n",
       "      <th>std</th>\n",
       "      <td>4.528685e+04</td>\n",
       "      <td>6.781818e+04</td>\n",
       "      <td>1.587750e-01</td>\n",
       "      <td>1.587901e-01</td>\n",
       "      <td>1.587601e-01</td>\n",
       "      <td>1.587750e-01</td>\n",
       "      <td>0.0</td>\n",
       "      <td>2.196976e-01</td>\n",
       "      <td>2.197125e-01</td>\n",
       "      <td>2.196826e-01</td>\n",
       "      <td>2.196973e-01</td>\n",
       "      <td>0.0</td>\n",
       "    </tr>\n",
       "    <tr>\n",
       "      <th>min</th>\n",
       "      <td>2.001010e+07</td>\n",
       "      <td>0.000000e+00</td>\n",
       "      <td>8.350000e-01</td>\n",
       "      <td>8.350000e-01</td>\n",
       "      <td>8.350000e-01</td>\n",
       "      <td>8.350000e-01</td>\n",
       "      <td>4.0</td>\n",
       "      <td>7.100000e-01</td>\n",
       "      <td>7.108000e-01</td>\n",
       "      <td>7.068000e-01</td>\n",
       "      <td>7.098000e-01</td>\n",
       "      <td>4.0</td>\n",
       "    </tr>\n",
       "    <tr>\n",
       "      <th>25%</th>\n",
       "      <td>2.005091e+07</td>\n",
       "      <td>6.050000e+04</td>\n",
       "      <td>1.139100e+00</td>\n",
       "      <td>1.139200e+00</td>\n",
       "      <td>1.139000e+00</td>\n",
       "      <td>1.139100e+00</td>\n",
       "      <td>4.0</td>\n",
       "      <td>9.552000e-01</td>\n",
       "      <td>9.552000e-01</td>\n",
       "      <td>9.551000e-01</td>\n",
       "      <td>9.552000e-01</td>\n",
       "      <td>4.0</td>\n",
       "    </tr>\n",
       "    <tr>\n",
       "      <th>50%</th>\n",
       "      <td>2.009070e+07</td>\n",
       "      <td>1.150000e+05</td>\n",
       "      <td>1.281400e+00</td>\n",
       "      <td>1.281500e+00</td>\n",
       "      <td>1.281300e+00</td>\n",
       "      <td>1.281400e+00</td>\n",
       "      <td>4.0</td>\n",
       "      <td>1.064100e+00</td>\n",
       "      <td>1.064200e+00</td>\n",
       "      <td>1.064000e+00</td>\n",
       "      <td>1.064100e+00</td>\n",
       "      <td>4.0</td>\n",
       "    </tr>\n",
       "    <tr>\n",
       "      <th>75%</th>\n",
       "      <td>2.013042e+07</td>\n",
       "      <td>1.732000e+05</td>\n",
       "      <td>1.356000e+00</td>\n",
       "      <td>1.356100e+00</td>\n",
       "      <td>1.355900e+00</td>\n",
       "      <td>1.356000e+00</td>\n",
       "      <td>4.0</td>\n",
       "      <td>1.246300e+00</td>\n",
       "      <td>1.246300e+00</td>\n",
       "      <td>1.246200e+00</td>\n",
       "      <td>1.246300e+00</td>\n",
       "      <td>4.0</td>\n",
       "    </tr>\n",
       "    <tr>\n",
       "      <th>max</th>\n",
       "      <td>2.017023e+07</td>\n",
       "      <td>2.359000e+05</td>\n",
       "      <td>1.603300e+00</td>\n",
       "      <td>1.603600e+00</td>\n",
       "      <td>1.602700e+00</td>\n",
       "      <td>1.603400e+00</td>\n",
       "      <td>4.0</td>\n",
       "      <td>1.822100e+00</td>\n",
       "      <td>1.822100e+00</td>\n",
       "      <td>1.821700e+00</td>\n",
       "      <td>1.822000e+00</td>\n",
       "      <td>4.0</td>\n",
       "    </tr>\n",
       "  </tbody>\n",
       "</table>\n",
       "</div>"
      ],
      "text/plain": [
       "       <DTYYYYMMDD>        <TIME>      <OPEN>_x      <HIGH>_x       <LOW>_x  \\\n",
       "count  5.583225e+06  5.583225e+06  5.583225e+06  5.583225e+06  5.583225e+06   \n",
       "mean   2.009006e+07  1.163991e+05  1.250523e+00  1.250602e+00  1.250443e+00   \n",
       "std    4.528685e+04  6.781818e+04  1.587750e-01  1.587901e-01  1.587601e-01   \n",
       "min    2.001010e+07  0.000000e+00  8.350000e-01  8.350000e-01  8.350000e-01   \n",
       "25%    2.005091e+07  6.050000e+04  1.139100e+00  1.139200e+00  1.139000e+00   \n",
       "50%    2.009070e+07  1.150000e+05  1.281400e+00  1.281500e+00  1.281300e+00   \n",
       "75%    2.013042e+07  1.732000e+05  1.356000e+00  1.356100e+00  1.355900e+00   \n",
       "max    2.017023e+07  2.359000e+05  1.603300e+00  1.603600e+00  1.602700e+00   \n",
       "\n",
       "          <CLOSE>_x    <VOL>_x      <OPEN>_y      <HIGH>_y       <LOW>_y  \\\n",
       "count  5.583225e+06  5583225.0  5.583225e+06  5.583225e+06  5.583225e+06   \n",
       "mean   1.250523e+00        4.0  1.126337e+00  1.126412e+00  1.126262e+00   \n",
       "std    1.587750e-01        0.0  2.196976e-01  2.197125e-01  2.196826e-01   \n",
       "min    8.350000e-01        4.0  7.100000e-01  7.108000e-01  7.068000e-01   \n",
       "25%    1.139100e+00        4.0  9.552000e-01  9.552000e-01  9.551000e-01   \n",
       "50%    1.281400e+00        4.0  1.064100e+00  1.064200e+00  1.064000e+00   \n",
       "75%    1.356000e+00        4.0  1.246300e+00  1.246300e+00  1.246200e+00   \n",
       "max    1.603400e+00        4.0  1.822100e+00  1.822100e+00  1.821700e+00   \n",
       "\n",
       "          <CLOSE>_y    <VOL>_y  \n",
       "count  5.583225e+06  5583225.0  \n",
       "mean   1.126337e+00        4.0  \n",
       "std    2.196973e-01        0.0  \n",
       "min    7.098000e-01        4.0  \n",
       "25%    9.552000e-01        4.0  \n",
       "50%    1.064100e+00        4.0  \n",
       "75%    1.246300e+00        4.0  \n",
       "max    1.822000e+00        4.0  "
      ]
     },
     "execution_count": 9,
     "metadata": {},
     "output_type": "execute_result"
    }
   ],
   "source": [
    "# Descriptive Statistics\n",
    "df.describe()"
   ]
  },
  {
   "cell_type": "code",
   "execution_count": 10,
   "metadata": {},
   "outputs": [
    {
     "name": "stdout",
     "output_type": "stream",
     "text": [
      "<class 'pandas.core.frame.DataFrame'>\n",
      "Int64Index: 5583225 entries, 0 to 5583224\n",
      "Data columns (total 14 columns):\n",
      "<TICKER>_x      object\n",
      "<DTYYYYMMDD>    int64\n",
      "<TIME>          int64\n",
      "<OPEN>_x        float64\n",
      "<HIGH>_x        float64\n",
      "<LOW>_x         float64\n",
      "<CLOSE>_x       float64\n",
      "<VOL>_x         int64\n",
      "<TICKER>_y      object\n",
      "<OPEN>_y        float64\n",
      "<HIGH>_y        float64\n",
      "<LOW>_y         float64\n",
      "<CLOSE>_y       float64\n",
      "<VOL>_y         int64\n",
      "dtypes: float64(8), int64(4), object(2)\n",
      "memory usage: 638.9+ MB\n"
     ]
    }
   ],
   "source": [
    "# Info on Dataset\n",
    "df.info()"
   ]
  },
  {
   "cell_type": "code",
   "execution_count": 11,
   "metadata": {
    "collapsed": true
   },
   "outputs": [],
   "source": [
    "# Rename Headers \n",
    "df = df.rename(columns = {'<CLOSE>_x':'EURUSD_CLOSE'})\n",
    "df = df.rename(columns = {'<CLOSE>_y':'USDCHF_CLOSE'})\n",
    "df = df.rename(columns = {'<TIME>':'TIME'})\n",
    "df = df.rename(columns = {'<DTYYYYMMDD>':'DATE'})\n",
    "df = df.rename(columns = {'<OPEN>_x':'EURUSD_OPEN'})\n",
    "df = df.rename(columns = {'<OPEN>_y':'USDCHF_OPEN'})"
   ]
  },
  {
   "cell_type": "code",
   "execution_count": 12,
   "metadata": {
    "collapsed": true
   },
   "outputs": [],
   "source": [
    "# Query Data from 2017/01/10 - 2017/01/12 onwards\n",
    "df = df.query('DATE > 20170109')\n",
    "df = df.query('DATE < 20170113')"
   ]
  },
  {
   "cell_type": "code",
   "execution_count": 13,
   "metadata": {},
   "outputs": [],
   "source": [
    "#Calculate change in Pips From Open to Close\n",
    "eurusdPipDif = df.EURUSD_OPEN - df.EURUSD_CLOSE\n",
    "usdchfPipDif = df.USDCHF_OPEN - df.USDCHF_CLOSE\n",
    "df['EURUSD_PIPCHG'] = eurusdPipDif\n",
    "df['USDCHF_PIPCHG'] = usdchfPipDif"
   ]
  },
  {
   "cell_type": "code",
   "execution_count": 14,
   "metadata": {},
   "outputs": [
    {
     "data": {
      "text/html": [
       "<div>\n",
       "<style>\n",
       "    .dataframe thead tr:only-child th {\n",
       "        text-align: right;\n",
       "    }\n",
       "\n",
       "    .dataframe thead th {\n",
       "        text-align: left;\n",
       "    }\n",
       "\n",
       "    .dataframe tbody tr th {\n",
       "        vertical-align: top;\n",
       "    }\n",
       "</style>\n",
       "<table border=\"1\" class=\"dataframe\">\n",
       "  <thead>\n",
       "    <tr style=\"text-align: right;\">\n",
       "      <th></th>\n",
       "      <th>&lt;TICKER&gt;_x</th>\n",
       "      <th>DATE</th>\n",
       "      <th>TIME</th>\n",
       "      <th>EURUSD_OPEN</th>\n",
       "      <th>&lt;HIGH&gt;_x</th>\n",
       "      <th>&lt;LOW&gt;_x</th>\n",
       "      <th>EURUSD_CLOSE</th>\n",
       "      <th>&lt;VOL&gt;_x</th>\n",
       "      <th>&lt;TICKER&gt;_y</th>\n",
       "      <th>USDCHF_OPEN</th>\n",
       "      <th>&lt;HIGH&gt;_y</th>\n",
       "      <th>&lt;LOW&gt;_y</th>\n",
       "      <th>USDCHF_CLOSE</th>\n",
       "      <th>&lt;VOL&gt;_y</th>\n",
       "      <th>EURUSD_PIPCHG</th>\n",
       "      <th>USDCHF_PIPCHG</th>\n",
       "    </tr>\n",
       "  </thead>\n",
       "  <tbody>\n",
       "    <tr>\n",
       "      <th>5532293</th>\n",
       "      <td>EURUSD</td>\n",
       "      <td>20170110</td>\n",
       "      <td>0</td>\n",
       "      <td>1.0583</td>\n",
       "      <td>1.0583</td>\n",
       "      <td>1.0583</td>\n",
       "      <td>1.0583</td>\n",
       "      <td>4</td>\n",
       "      <td>USDCHF</td>\n",
       "      <td>1.0139</td>\n",
       "      <td>1.0139</td>\n",
       "      <td>1.0139</td>\n",
       "      <td>1.0139</td>\n",
       "      <td>4</td>\n",
       "      <td>0.0</td>\n",
       "      <td>0.0</td>\n",
       "    </tr>\n",
       "    <tr>\n",
       "      <th>5532294</th>\n",
       "      <td>EURUSD</td>\n",
       "      <td>20170110</td>\n",
       "      <td>100</td>\n",
       "      <td>1.0582</td>\n",
       "      <td>1.0582</td>\n",
       "      <td>1.0582</td>\n",
       "      <td>1.0582</td>\n",
       "      <td>4</td>\n",
       "      <td>USDCHF</td>\n",
       "      <td>1.0139</td>\n",
       "      <td>1.0139</td>\n",
       "      <td>1.0139</td>\n",
       "      <td>1.0139</td>\n",
       "      <td>4</td>\n",
       "      <td>0.0</td>\n",
       "      <td>0.0</td>\n",
       "    </tr>\n",
       "    <tr>\n",
       "      <th>5532295</th>\n",
       "      <td>EURUSD</td>\n",
       "      <td>20170110</td>\n",
       "      <td>200</td>\n",
       "      <td>1.0582</td>\n",
       "      <td>1.0582</td>\n",
       "      <td>1.0582</td>\n",
       "      <td>1.0582</td>\n",
       "      <td>4</td>\n",
       "      <td>USDCHF</td>\n",
       "      <td>1.0138</td>\n",
       "      <td>1.0138</td>\n",
       "      <td>1.0138</td>\n",
       "      <td>1.0138</td>\n",
       "      <td>4</td>\n",
       "      <td>0.0</td>\n",
       "      <td>0.0</td>\n",
       "    </tr>\n",
       "    <tr>\n",
       "      <th>5532296</th>\n",
       "      <td>EURUSD</td>\n",
       "      <td>20170110</td>\n",
       "      <td>300</td>\n",
       "      <td>1.0582</td>\n",
       "      <td>1.0582</td>\n",
       "      <td>1.0582</td>\n",
       "      <td>1.0582</td>\n",
       "      <td>4</td>\n",
       "      <td>USDCHF</td>\n",
       "      <td>1.0138</td>\n",
       "      <td>1.0138</td>\n",
       "      <td>1.0138</td>\n",
       "      <td>1.0138</td>\n",
       "      <td>4</td>\n",
       "      <td>0.0</td>\n",
       "      <td>0.0</td>\n",
       "    </tr>\n",
       "    <tr>\n",
       "      <th>5532297</th>\n",
       "      <td>EURUSD</td>\n",
       "      <td>20170110</td>\n",
       "      <td>400</td>\n",
       "      <td>1.0582</td>\n",
       "      <td>1.0582</td>\n",
       "      <td>1.0582</td>\n",
       "      <td>1.0582</td>\n",
       "      <td>4</td>\n",
       "      <td>USDCHF</td>\n",
       "      <td>1.0138</td>\n",
       "      <td>1.0138</td>\n",
       "      <td>1.0138</td>\n",
       "      <td>1.0138</td>\n",
       "      <td>4</td>\n",
       "      <td>0.0</td>\n",
       "      <td>0.0</td>\n",
       "    </tr>\n",
       "  </tbody>\n",
       "</table>\n",
       "</div>"
      ],
      "text/plain": [
       "        <TICKER>_x      DATE  TIME  EURUSD_OPEN  <HIGH>_x  <LOW>_x  \\\n",
       "5532293     EURUSD  20170110     0       1.0583    1.0583   1.0583   \n",
       "5532294     EURUSD  20170110   100       1.0582    1.0582   1.0582   \n",
       "5532295     EURUSD  20170110   200       1.0582    1.0582   1.0582   \n",
       "5532296     EURUSD  20170110   300       1.0582    1.0582   1.0582   \n",
       "5532297     EURUSD  20170110   400       1.0582    1.0582   1.0582   \n",
       "\n",
       "         EURUSD_CLOSE  <VOL>_x <TICKER>_y  USDCHF_OPEN  <HIGH>_y  <LOW>_y  \\\n",
       "5532293        1.0583        4     USDCHF       1.0139    1.0139   1.0139   \n",
       "5532294        1.0582        4     USDCHF       1.0139    1.0139   1.0139   \n",
       "5532295        1.0582        4     USDCHF       1.0138    1.0138   1.0138   \n",
       "5532296        1.0582        4     USDCHF       1.0138    1.0138   1.0138   \n",
       "5532297        1.0582        4     USDCHF       1.0138    1.0138   1.0138   \n",
       "\n",
       "         USDCHF_CLOSE  <VOL>_y  EURUSD_PIPCHG  USDCHF_PIPCHG  \n",
       "5532293        1.0139        4            0.0            0.0  \n",
       "5532294        1.0139        4            0.0            0.0  \n",
       "5532295        1.0138        4            0.0            0.0  \n",
       "5532296        1.0138        4            0.0            0.0  \n",
       "5532297        1.0138        4            0.0            0.0  "
      ]
     },
     "execution_count": 14,
     "metadata": {},
     "output_type": "execute_result"
    }
   ],
   "source": [
    "# Review Data\n",
    "df.head()"
   ]
  },
  {
   "cell_type": "code",
   "execution_count": 15,
   "metadata": {},
   "outputs": [
    {
     "name": "stderr",
     "output_type": "stream",
     "text": [
      "/Users/alvinchung/anaconda/lib/python3.6/site-packages/statsmodels/compat/pandas.py:56: FutureWarning: The pandas.core.datetools module is deprecated and will be removed in a future version. Please use the pandas.tseries module instead.\n",
      "  from pandas.core import datetools\n"
     ]
    }
   ],
   "source": [
    "# Import Visual Libraries\n",
    "import statsmodels.api as sm\n",
    "from statsmodels.formula.api import ols"
   ]
  },
  {
   "cell_type": "code",
   "execution_count": 16,
   "metadata": {},
   "outputs": [
    {
     "data": {
      "text/plain": [
       "<matplotlib.text.Text at 0x111bce438>"
      ]
     },
     "execution_count": 16,
     "metadata": {},
     "output_type": "execute_result"
    },
    {
     "data": {
      "image/png": "[encoded data removed]",
      "text/plain": [
       "<matplotlib.figure.Figure at 0x111aad4e0>"
      ]
     },
     "metadata": {},
     "output_type": "display_data"
    }
   ],
   "source": [
    "# Histogram Visualisation on Dataset\n",
    "fig = plt.figure(figsize=(12,6))\n",
    "xau = fig.add_subplot(121)\n",
    "jpy = fig.add_subplot(122)\n",
    "\n",
    "xau.hist(df.EURUSD_CLOSE, bins=80)\n",
    "xau.set_xlabel('EURUSD($)')\n",
    "xau.set_title(\"Price Frequency of EURUSD\")\n",
    "\n",
    "jpy.hist(df.USDCHF_CLOSE, bins=80)\n",
    "jpy.set_xlabel('USDCHF($)')\n",
    "jpy.set_title(\"Price Frequency of USDCHF\")"
   ]
  },
  {
   "cell_type": "code",
   "execution_count": 17,
   "metadata": {},
   "outputs": [
    {
     "name": "stdout",
     "output_type": "stream",
     "text": [
      "                            OLS Regression Results                            \n",
      "==============================================================================\n",
      "Dep. Variable:           EURUSD_CLOSE   R-squared:                       0.984\n",
      "Model:                            OLS   Adj. R-squared:                  0.984\n",
      "Method:                 Least Squares   F-statistic:                 2.667e+05\n",
      "Date:                Sat, 22 Jul 2017   Prob (F-statistic):               0.00\n",
      "Time:                        02:22:00   Log-Likelihood:                 26459.\n",
      "No. Observations:                4320   AIC:                        -5.291e+04\n",
      "Df Residuals:                    4318   BIC:                        -5.290e+04\n",
      "Df Model:                           1                                         \n",
      "Covariance Type:            nonrobust                                         \n",
      "================================================================================\n",
      "                   coef    std err          t      P>|t|      [0.025      0.975]\n",
      "--------------------------------------------------------------------------------\n",
      "Intercept        2.1780      0.002   1004.571      0.000       2.174       2.182\n",
      "USDCHF_CLOSE    -1.1045      0.002   -516.447      0.000      -1.109      -1.100\n",
      "==============================================================================\n",
      "Omnibus:                      525.579   Durbin-Watson:                   0.047\n",
      "Prob(Omnibus):                  0.000   Jarque-Bera (JB):              897.136\n",
      "Skew:                          -0.824   Prob(JB):                    1.55e-195\n",
      "Kurtosis:                       4.506   Cond. No.                         538.\n",
      "==============================================================================\n",
      "\n",
      "Warnings:\n",
      "[1] Standard Errors assume that the covariance matrix of the errors is correctly specified.\n"
     ]
    }
   ],
   "source": [
    "# ordinary least squares EURUSD_CLOSE TO USDCHF_CLOSE\n",
    "m = ols('EURUSD_CLOSE ~ USDCHF_CLOSE ',df).fit()\n",
    "print(m.summary())"
   ]
  },
  {
   "cell_type": "code",
   "execution_count": 18,
   "metadata": {},
   "outputs": [
    {
     "data": {
      "image/png": "[encoded data removed]",
      "text/plain": [
       "<matplotlib.figure.Figure at 0x11579a2b0>"
      ]
     },
     "metadata": {},
     "output_type": "display_data"
    }
   ],
   "source": [
    "# ordinary least squares Visualisation\n",
    "sns.jointplot(x=\"EURUSD_CLOSE\", y=\"USDCHF_CLOSE\", data=df, kind = 'reg',fit_reg= True, size = 7)\n",
    "plt.show()"
   ]
  },
  {
   "cell_type": "code",
   "execution_count": 19,
   "metadata": {},
   "outputs": [
    {
     "data": {
      "text/plain": [
       "<matplotlib.text.Text at 0x1261f8908>"
      ]
     },
     "execution_count": 19,
     "metadata": {},
     "output_type": "execute_result"
    },
    {
     "data": {
      "image/png": "[encoded data removed]",
      "text/plain": [
       "<matplotlib.figure.Figure at 0x125e736a0>"
      ]
     },
     "metadata": {},
     "output_type": "display_data"
    }
   ],
   "source": [
    "# Histogram Visualisation on Dataset\n",
    "fig = plt.figure(figsize=(12,6))\n",
    "xau = fig.add_subplot(121)\n",
    "jpy = fig.add_subplot(122)\n",
    "\n",
    "\n",
    "xau.hist(df.EURUSD_PIPCHG, bins=80)\n",
    "xau.set_xlabel('EURUSD(pips)')\n",
    "xau.set_title(\"EURUSD Frequency of Change in Price)\")\n",
    "\n",
    "\n",
    "jpy.hist(df.USDCHF_PIPCHG, bins=80)\n",
    "jpy.set_xlabel('USDCHF(pips)')\n",
    "jpy.set_title(\"USDCHF Frequency of Change in Price\")"
   ]
  },
  {
   "cell_type": "code",
   "execution_count": 20,
   "metadata": {},
   "outputs": [
    {
     "data": {
      "image/png": "[encoded data removed]",
      "text/plain": [
       "<matplotlib.figure.Figure at 0x111cb5f98>"
      ]
     },
     "metadata": {},
     "output_type": "display_data"
    }
   ],
   "source": [
    "# Final!\n",
    "# OLS regression \n",
    "# Cross Sectional Analysis on 1M Pip Changes Between EURUSD & USDCHF \n",
    "sns.jointplot(x=\"USDCHF_PIPCHG\", y=\"EURUSD_PIPCHG\", data=df, kind = 'reg',fit_reg= True, size = 7)\n",
    "plt.show()"
   ]
  },
  {
   "cell_type": "code",
   "execution_count": 21,
   "metadata": {},
   "outputs": [
    {
     "name": "stdout",
     "output_type": "stream",
     "text": [
      "                            OLS Regression Results                            \n",
      "==============================================================================\n",
      "Dep. Variable:          EURUSD_PIPCHG   R-squared:                       0.760\n",
      "Model:                            OLS   Adj. R-squared:                  0.760\n",
      "Method:                 Least Squares   F-statistic:                 1.367e+04\n",
      "Date:                Sat, 22 Jul 2017   Prob (F-statistic):               0.00\n",
      "Time:                        02:22:03   Log-Likelihood:                 37315.\n",
      "No. Observations:                4320   AIC:                        -7.463e+04\n",
      "Df Residuals:                    4318   BIC:                        -7.461e+04\n",
      "Df Model:                           1                                         \n",
      "Covariance Type:            nonrobust                                         \n",
      "=================================================================================\n",
      "                    coef    std err          t      P>|t|      [0.025      0.975]\n",
      "---------------------------------------------------------------------------------\n",
      "Intercept      4.204e-07   6.53e-07      0.644      0.520    -8.6e-07     1.7e-06\n",
      "USDCHF_PIPCHG    -0.9203      0.008   -116.918      0.000      -0.936      -0.905\n",
      "==============================================================================\n",
      "Omnibus:                     1317.600   Durbin-Watson:                   2.145\n",
      "Prob(Omnibus):                  0.000   Jarque-Bera (JB):           200316.015\n",
      "Skew:                           0.210   Prob(JB):                         0.00\n",
      "Kurtosis:                      36.357   Cond. No.                     1.21e+04\n",
      "==============================================================================\n",
      "\n",
      "Warnings:\n",
      "[1] Standard Errors assume that the covariance matrix of the errors is correctly specified.\n",
      "[2] The condition number is large, 1.21e+04. This might indicate that there are\n",
      "strong multicollinearity or other numerical problems.\n"
     ]
    }
   ],
   "source": [
    "# ordinary least squares\n",
    "# OLS Regression Statistics\n",
    "# Complete and Significant Correlation Between EURUSD & USDCHF for 1M\n",
    "# Details Outlined Above & Below Outline the inefficiencies in 1M Pip Changes Between EURUSD & USDCHF\n",
    "# Potential for HFT/ Algoritmic Trading\n",
    "m = ols('EURUSD_PIPCHG ~ USDCHF_PIPCHG ',df).fit()\n",
    "print(m.summary())\n",
    "\n",
    "# R-Squared of 82% Impressive!"
   ]
  },
  {
   "cell_type": "code",
   "execution_count": 22,
   "metadata": {
    "collapsed": true
   },
   "outputs": [],
   "source": [
    "# Details Above Outline the inefficiencies in 1M Pip Changes Between EURUSD & USDCHF\n",
    "# Potential for HFT/ Algoritmic Trading Strategies Between Inefficient Correlations between the two pairs"
   ]
  },
  {
   "cell_type": "code",
   "execution_count": 23,
   "metadata": {},
   "outputs": [
    {
     "data": {
      "text/plain": [
       "<matplotlib.axes._subplots.AxesSubplot at 0x125f0b400>"
      ]
     },
     "execution_count": 23,
     "metadata": {},
     "output_type": "execute_result"
    },
    {
     "data": {
      "image/png": "[encoded data removed]",
      "text/plain": [
       "<matplotlib.figure.Figure at 0x125ee3e10>"
      ]
     },
     "metadata": {},
     "output_type": "display_data"
    }
   ],
   "source": [
    "pylab.rcParams['figure.figsize'] = (15,9)\n",
    "\n",
    "df[\"EURUSD_PIPCHG\"].plot(grid = True)\n",
    "df[\"USDCHF_PIPCHG\"].plot(grid = True)"
   ]
  },
  {
   "cell_type": "code",
   "execution_count": null,
   "metadata": {
    "collapsed": true
   },
   "outputs": [],
   "source": []
  },
  {
   "cell_type": "code",
   "execution_count": null,
   "metadata": {},
   "outputs": [],
   "source": []
  },
  {
   "cell_type": "code",
   "execution_count": null,
   "metadata": {
    "collapsed": true
   },
   "outputs": [],
   "source": []
  }
 ],
 "metadata": {
  "anaconda-cloud": {},
  "kernelspec": {
   "display_name": "Python 3",
   "language": "python",
   "name": "python3"
  },
  "language_info": {
   "codemirror_mode": {
    "name": "ipython",
    "version": 3
   },
   "file_extension": ".py",
   "mimetype": "text/x-python",
   "name": "python",
   "nbconvert_exporter": "python",
   "pygments_lexer": "ipython3",
   "version": "3.6.1"
  }
 },
 "nbformat": 4,
 "nbformat_minor": 1
}
